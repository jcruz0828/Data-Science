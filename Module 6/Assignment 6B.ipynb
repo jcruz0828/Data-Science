{
 "cells": [
  {
   "cell_type": "code",
   "execution_count": 15,
   "metadata": {},
   "outputs": [
    {
     "name": "stdout",
     "output_type": "stream",
     "text": [
      "2.5\n"
     ]
    }
   ],
   "source": [
    "import pandas as pd \n",
    "\n",
    "# Read the CSV file\n",
    "df = pd.read_csv('/Users/josecoyt/Data Science/Data/grocery.csv')\n",
    "\n",
    "#convert price to float and fill empty with median\n",
    "df['Price'] = df['Price'].str.replace('$', '').astype('float64').fillna(df['Price'].median)\n",
    "\n",
    "#Fix 'tem' -> 'Item\n",
    "df.rename(columns={'tem': 'Item'}, inplace=True)\n",
    "\n",
    "# Fill Na \n",
    "df['Manufacturer'].fillna('ABC Distributing')\n",
    "df['Country of Origin'].fillna('Unknown')\n",
    "\n",
    "\n",
    "\n",
    "\n",
    "\n"
   ]
  },
  {
   "cell_type": "code",
   "execution_count": null,
   "metadata": {},
   "outputs": [],
   "source": []
  }
 ],
 "metadata": {
  "kernelspec": {
   "display_name": "Python 3 (ipykernel)",
   "language": "python",
   "name": "python3"
  }
 },
 "nbformat": 4,
 "nbformat_minor": 2
}
