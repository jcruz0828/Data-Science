{
 "cells": [
  {
   "cell_type": "code",
   "execution_count": 14,
   "id": "4dc089e4-5445-451f-b3ee-5f423006c1b4",
   "metadata": {},
   "outputs": [
    {
     "name": "stdout",
     "output_type": "stream",
     "text": [
      "Coefficient (slope): -32.6605183739482\n",
      "Intercept: 107.60565162201061\n",
      "Predicted Fare for Pclass 2: 42.28461487411421\n"
     ]
    },
    {
     "name": "stderr",
     "output_type": "stream",
     "text": [
      "/opt/anaconda3/lib/python3.12/site-packages/sklearn/base.py:493: UserWarning: X does not have valid feature names, but LinearRegression was fitted with feature names\n",
      "  warnings.warn(\n"
     ]
    }
   ],
   "source": [
    "import pandas as pd\n",
    "from sklearn.linear_model import LinearRegression\n",
    "\n",
    "titanic_df = pd.read_csv('titanic_train.csv')\n",
    "model = LinearRegression()\n",
    "model.fit(titanic_df[['Pclass']], titanic_df['Fare'])\n",
    "print(\"Coefficient (slope):\", model.coef_[0])\n",
    "print(\"Intercept:\", model.intercept_)\n",
    "predicted_fare = model.predict([[2]]) \n",
    "print(\"Predicted Fare for Pclass 2:\", predicted_fare[0]) "
   ]
  },
  {
   "cell_type": "code",
   "execution_count": 25,
   "id": "a1527b48-8b08-4cc5-b24f-f2f69459dcc8",
   "metadata": {},
   "outputs": [
    {
     "name": "stdout",
     "output_type": "stream",
     "text": [
      "Coefficient (slope): -2.7427852447986214\n",
      "Intercept: 31.133615878345193\n"
     ]
    }
   ],
   "source": [
    "import pandas as pd\n",
    "from sklearn.linear_model import LinearRegression\n",
    "\n",
    "titanic_df = pd.read_csv('titanic_train.csv')\n",
    "model = LinearRegression()\n",
    "filteredAge = titanic_df['Age'].fillna(titanic_df['Age'].mean())\n",
    "model.fit(titanic_df[['SibSp']], filteredAge)\n",
    "print(\"Coefficient (slope):\", model.coef_[0])\n",
    "print(\"Intercept:\", model.intercept_)"
   ]
  },
  {
   "cell_type": "code",
   "execution_count": 33,
   "id": "ba8d6924-1277-48ff-b224-05a8b5353e45",
   "metadata": {},
   "outputs": [
    {
     "name": "stdout",
     "output_type": "stream",
     "text": [
      "Coefficient (slope): 0.3499636817440234\n",
      "Intercept: 21.810595412261033\n"
     ]
    }
   ],
   "source": [
    "import pandas as pd\n",
    "from sklearn.linear_model import LinearRegression\n",
    "\n",
    "titanic_df = pd.read_csv('titanic_train.csv')\n",
    "model = LinearRegression()\n",
    "\n",
    "filteredAge = titanic_df[['Age']].fillna(titanic_df['Age'].mean())\n",
    "model.fit(filteredAge, titanic_df['Fare'])\n",
    "\n",
    "print(\"Coefficient (slope):\", model.coef_[0])\n",
    "print(\"Intercept:\", model.intercept_)"
   ]
  },
  {
   "cell_type": "code",
   "execution_count": 16,
   "id": "2fe46d34-20d1-4885-8cf1-130c4550d761",
   "metadata": {
    "scrolled": true
   },
   "outputs": [
    {
     "name": "stdout",
     "output_type": "stream",
     "text": [
      "<class 'pandas.core.frame.DataFrame'>\n",
      "RangeIndex: 891 entries, 0 to 890\n",
      "Data columns (total 12 columns):\n",
      " #   Column       Non-Null Count  Dtype  \n",
      "---  ------       --------------  -----  \n",
      " 0   PassengerId  891 non-null    int64  \n",
      " 1   Survived     891 non-null    int64  \n",
      " 2   Pclass       891 non-null    int64  \n",
      " 3   Name         891 non-null    object \n",
      " 4   Sex          891 non-null    object \n",
      " 5   Age          714 non-null    float64\n",
      " 6   SibSp        891 non-null    int64  \n",
      " 7   Parch        891 non-null    int64  \n",
      " 8   Ticket       891 non-null    object \n",
      " 9   Fare         891 non-null    float64\n",
      " 10  Cabin        204 non-null    object \n",
      " 11  Embarked     889 non-null    object \n",
      "dtypes: float64(2), int64(5), object(5)\n",
      "memory usage: 83.7+ KB\n"
     ]
    }
   ],
   "source": [
    "titanic_df = pd.read_csv('titanic_train.csv')\n",
    "titanic_df.info()"
   ]
  },
  {
   "cell_type": "code",
   "execution_count": 35,
   "id": "b0038cc8-2ae7-4647-854c-ace959329d09",
   "metadata": {},
   "outputs": [
    {
     "ename": "SyntaxError",
     "evalue": "invalid non-printable character U+FEFF (2631465001.py, line 3)",
     "output_type": "error",
     "traceback": [
      "\u001b[0;36m  Cell \u001b[0;32mIn[35], line 3\u001b[0;36m\u001b[0m\n\u001b[0;31m    ﻿titanic_df['Booking_Weeks_Prior'] = np.random.randint(1, 21, size=len(titanic_df))\u001b[0m\n\u001b[0m    ^\u001b[0m\n\u001b[0;31mSyntaxError\u001b[0m\u001b[0;31m:\u001b[0m invalid non-printable character U+FEFF\n"
     ]
    }
   ],
   "source": [
    "#Add time data for a time series plot of prices over time\n",
    "#﻿assume the booking date based on a range of weeks before departure \n",
    "﻿titanic_df['Booking_Weeks_Prior'] = np.random.randint(1, 21, size=len(titanic_df)) "
   ]
  }
 ],
 "metadata": {
  "kernelspec": {
   "display_name": "Python 3 (ipykernel)",
   "language": "python",
   "name": "python3"
  },
  "language_info": {
   "codemirror_mode": {
    "name": "ipython",
    "version": 3
   },
   "file_extension": ".py",
   "mimetype": "text/x-python",
   "name": "python",
   "nbconvert_exporter": "python",
   "pygments_lexer": "ipython3",
   "version": "3.12.4"
  }
 },
 "nbformat": 4,
 "nbformat_minor": 5
}
