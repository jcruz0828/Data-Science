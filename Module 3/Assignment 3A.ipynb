{
 "cells": [
  {
   "cell_type": "code",
   "execution_count": 15,
   "id": "069791bb-d6c4-4107-99f8-e75c635af347",
   "metadata": {},
   "outputs": [
    {
     "name": "stdout",
     "output_type": "stream",
     "text": [
      "union:  {'grape', 'banana', 'watermelon', 'apple', 'kiwi', 'orange'}\n",
      "intersection:  {'banana', 'kiwi'}\n",
      "difference: {'apple', 'orange'}\n",
      "symetric difference:  {'grape', 'watermelon', 'apple', 'orange'}\n"
     ]
    }
   ],
   "source": [
    "set1 = {\"apple\",\"banana\", \"orange\", \"kiwi\"}\n",
    "set2 = {\"banana\", \"grape\", \"watermelon\",  \"kiwi\" }\n",
    "\n",
    "print(\"union: \",set1.union(set2))\n",
    "print(\"intersection: \",set1.intersection(set2))\n",
    "print(\"difference:\" ,set1.difference(set2))\n",
    "print(\"symetric difference: \",set1.symmetric_difference(set2))"
   ]
  },
  {
   "cell_type": "code",
   "execution_count": 136,
   "id": "dfb953ad-096f-4a66-9947-20882cc750d0",
   "metadata": {},
   "outputs": [
    {
     "name": "stdout",
     "output_type": "stream",
     "text": [
      "{'S': 644, 'C': 168, 'Q': 77, 'X': 2}\n",
      "{1: 216, 2: 184, 3: 491}\n"
     ]
    },
    {
     "name": "stderr",
     "output_type": "stream",
     "text": [
      "/var/folders/7f/k112vzxs0qb0hm1r03sgnk5m0000gn/T/ipykernel_57297/4134088288.py:4: FutureWarning: A value is trying to be set on a copy of a DataFrame or Series through chained assignment using an inplace method.\n",
      "The behavior will change in pandas 3.0. This inplace method will never work because the intermediate object on which we are setting values always behaves as a copy.\n",
      "\n",
      "For example, when doing 'df[col].method(value, inplace=True)', try using 'df.method({col: value}, inplace=True)' or df[col] = df[col].method(value) instead, to perform the operation inplace on the original object.\n",
      "\n",
      "\n",
      "  titanic_data['Embarked'].fillna('X', inplace=True)\n"
     ]
    }
   ],
   "source": [
    "import pandas as pd\n",
    "\n",
    "titanic_data = pd.read_csv(\"titanic_train.csv\")\n",
    "titanic_data['Embarked'].fillna('X', inplace=True)\n",
    "possibleCities = titanic_data[\"Embarked\"].unique()\n",
    "\n",
    "\n",
    "passenger_city_count = {'S':0, 'C':0, 'Q': 0,'X':0}\n",
    "passenger_class_count = {1:0,2:0,3:0}\n",
    "\n",
    "for index, row in titanic_data.iterrows():\n",
    "     passenger_city = row['Embarked']\n",
    "     passenger_city_count[passenger_city] += 1\n",
    "     passenger_class = row['Pclass']\n",
    "     passenger_class_count[passenger_class] += 1\n",
    "\n",
    "print(passenger_city_count)\n",
    "print(passenger_class_count)\n",
    "\n",
    "\n"
   ]
  },
  {
   "cell_type": "code",
   "execution_count": 131,
   "id": "3e96436f-8348-4bed-a2f5-24917c7d3d91",
   "metadata": {},
   "outputs": [
    {
     "name": "stdout",
     "output_type": "stream",
     "text": [
      "{'X': 0, 'United States': 166, 'Colombia': 1, 'Brazil': 1, 'Canada': 2, 'Ecuador': 1, 'France': 1, 'Madagascar': 1, 'Mexico': 8, 'Norway': 1, 'Peru': 1, 'Portugal': 1}\n"
     ]
    }
   ],
   "source": [
    "import pandas as pd\n",
    "\n",
    "grocery_data = pd.read_csv(\"grocery.csv\")\n",
    "\n",
    "countriesOrigin = grocery_data[\"Country of Origin\"].unique()\n",
    "product_country_count = {'X': 0}  # Initialize count for NaN values\n",
    "\n",
    "for index, row in grocery_data.iterrows():\n",
    "    if pd.isna(row['Country of Origin']):\n",
    "        product_country_count['X'] += 1  # Increment for NaN\n",
    "    else:\n",
    "        country = row['Country of Origin']\n",
    "        # Initialize the count for the country if it doesn't exist\n",
    "        if country not in product_country_count:\n",
    "            product_country_count[country] = 0\n",
    "        product_country_count[country] += 1  # Increment for the country\n",
    "\n",
    "print(product_country_count)"
   ]
  },
  {
   "cell_type": "code",
   "execution_count": null,
   "id": "706a5cc2-d951-4586-a466-dea54ff39b6b",
   "metadata": {},
   "outputs": [],
   "source": []
  }
 ],
 "metadata": {
  "kernelspec": {
   "display_name": "Python 3 (ipykernel)",
   "language": "python",
   "name": "python3"
  },
  "language_info": {
   "codemirror_mode": {
    "name": "ipython",
    "version": 3
   },
   "file_extension": ".py",
   "mimetype": "text/x-python",
   "name": "python",
   "nbconvert_exporter": "python",
   "pygments_lexer": "ipython3",
   "version": "3.12.4"
  }
 },
 "nbformat": 4,
 "nbformat_minor": 5
}
