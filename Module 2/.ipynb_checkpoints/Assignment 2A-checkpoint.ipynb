{
 "cells": [
  {
   "cell_type": "code",
   "execution_count": 2,
   "id": "c57c62d0-336e-4759-9477-1b7683e0d7bf",
   "metadata": {},
   "outputs": [
    {
     "name": "stdout",
     "output_type": "stream",
     "text": [
      "                tem               Category Refrigeration Required  \\\n",
      "0    Macadamia Nuts          Miscellaneous                     No   \n",
      "1  Brussels Sprouts  Fruits and Vegetables                    Yes   \n",
      "2            Coffee              Beverages                     No   \n",
      "3       Maple Syrup      Snacks and Sweets                    Yes   \n",
      "4          Flaxseed          Miscellaneous                     No   \n",
      "\n",
      "   Weight (lbs)   Price Country of Origin  Manufacturer  \n",
      "0           1.0  $7.00      United States       Nut Co.  \n",
      "1           1.0  $2.00           Colombia    Veggie Co.  \n",
      "2           1.0  $5.00             Brazil  Beverage Co.  \n",
      "3           1.0  $4.00             Canada    Snacks Co.  \n",
      "4           1.0  $4.00             Canada      Seed Co.  \n"
     ]
    }
   ],
   "source": [
    "import pandas as pd\n",
    "df = pd.read_csv(\"grocery.csv\")\n",
    "print(df.head())"
   ]
  },
  {
   "cell_type": "code",
   "execution_count": 3,
   "id": "984922b2-4059-4d59-8daf-265e26296376",
   "metadata": {},
   "outputs": [
    {
     "name": "stdout",
     "output_type": "stream",
     "text": [
      "                tem               Category Refrigeration Required  \\\n",
      "0    Macadamia Nuts          Miscellaneous                     No   \n",
      "1  Brussels Sprouts  Fruits and Vegetables                    Yes   \n",
      "2            Coffee              Beverages                     No   \n",
      "3       Maple Syrup      Snacks and Sweets                    Yes   \n",
      "4          Flaxseed          Miscellaneous                     No   \n",
      "\n",
      "   Weight (lbs)   Price Country of Origin  Manufacturer  \n",
      "0           1.0  $7.00      United States       Nut Co.  \n",
      "1           1.0  $2.00           Colombia    Veggie Co.  \n",
      "2           1.0  $5.00             Brazil  Beverage Co.  \n",
      "3           1.0  $4.00             Canada    Snacks Co.  \n",
      "4           1.0  $4.00             Canada      Seed Co.   10\n"
     ]
    }
   ],
   "source": [
    "print(df.head(),10)"
   ]
  },
  {
   "cell_type": "code",
   "execution_count": 4,
   "id": "acb4e604-11ef-45e5-992c-941185500855",
   "metadata": {},
   "outputs": [
    {
     "name": "stdout",
     "output_type": "stream",
     "text": [
      "                         tem                   Category  \\\n",
      "179               White Rice  Canned and Packaged Goods   \n",
      "180        Whole Wheat Flour          Bakery and Grains   \n",
      "181                Wild Rice  Canned and Packaged Goods   \n",
      "182  Yogurt-covered Pretzels          Snacks and Sweets   \n",
      "183                 Zucchini      Fruits and Vegetables   \n",
      "\n",
      "    Refrigeration Required  Weight (lbs)   Price Country of Origin  \\\n",
      "179                     No           1.0  $1.00      United States   \n",
      "180                     No           1.0  $2.00      United States   \n",
      "181                     No           1.0  $5.00      United States   \n",
      "182                     No           0.5  $2.50      United States   \n",
      "183                    Yes           1.0  $1.20      United States   \n",
      "\n",
      "    Manufacturer  \n",
      "179     Rice Co.  \n",
      "180   Bakery Co.  \n",
      "181     Rice Co.  \n",
      "182   Snacks Co.  \n",
      "183   Veggie Co.   10\n"
     ]
    }
   ],
   "source": [
    "print(df.tail(),10)"
   ]
  },
  {
   "cell_type": "code",
   "execution_count": 5,
   "id": "56a6260d-a8d5-46b3-9c02-0003b7636aac",
   "metadata": {},
   "outputs": [
    {
     "name": "stdout",
     "output_type": "stream",
     "text": [
      "<class 'pandas.core.frame.DataFrame'>\n",
      "RangeIndex: 184 entries, 0 to 183\n",
      "Data columns (total 7 columns):\n",
      " #   Column                  Non-Null Count  Dtype  \n",
      "---  ------                  --------------  -----  \n",
      " 0   tem                     184 non-null    object \n",
      " 1   Category                184 non-null    object \n",
      " 2   Refrigeration Required  184 non-null    object \n",
      " 3   Weight (lbs)            184 non-null    float64\n",
      " 4   Price                   184 non-null    object \n",
      " 5   Country of Origin       184 non-null    object \n",
      " 6   Manufacturer            183 non-null    object \n",
      "dtypes: float64(1), object(6)\n",
      "memory usage: 10.2+ KB\n"
     ]
    }
   ],
   "source": [
    "df.info()"
   ]
  },
  {
   "cell_type": "code",
   "execution_count": null,
   "id": "83353ae0-38ad-4214-ba41-2dc7ead6b046",
   "metadata": {},
   "outputs": [],
   "source": []
  }
 ],
 "metadata": {
  "kernelspec": {
   "display_name": "Python 3 (ipykernel)",
   "language": "python",
   "name": "python3"
  },
  "language_info": {
   "codemirror_mode": {
    "name": "ipython",
    "version": 3
   },
   "file_extension": ".py",
   "mimetype": "text/x-python",
   "name": "python",
   "nbconvert_exporter": "python",
   "pygments_lexer": "ipython3",
   "version": "3.12.4"
  }
 },
 "nbformat": 4,
 "nbformat_minor": 5
}
