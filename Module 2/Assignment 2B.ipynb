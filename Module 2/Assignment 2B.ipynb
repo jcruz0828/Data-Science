{
 "cells": [
  {
   "cell_type": "code",
   "execution_count": 1,
   "id": "ac97889c-4038-45e5-89be-42bd363fe154",
   "metadata": {},
   "outputs": [
    {
     "name": "stdout",
     "output_type": "stream",
     "text": [
      "                tem               Category Refrigeration Required  \\\n",
      "0    Macadamia Nuts          Miscellaneous                     No   \n",
      "1  Brussels Sprouts  Fruits and Vegetables                    Yes   \n",
      "2            Coffee              Beverages                     No   \n",
      "3       Maple Syrup      Snacks and Sweets                    Yes   \n",
      "4          Flaxseed          Miscellaneous                     No   \n",
      "\n",
      "   Weight (lbs)  Price Country of Origin  Manufacturer  \n",
      "0           1.0    7.0     United States       Nut Co.  \n",
      "1           1.0    2.0          Colombia    Veggie Co.  \n",
      "2           1.0    5.0            Brazil  Beverage Co.  \n",
      "3           1.0    4.0            Canada    Snacks Co.  \n",
      "4           1.0    4.0            Canada      Seed Co.  \n"
     ]
    }
   ],
   "source": [
    "import pandas as pd\n",
    "df = pd.read_csv(\"grocery.csv\")\n",
    "\n",
    "#Remove the $ from the entries in Price.\n",
    "df['Price'] = df['Price'].str.replace('$', '')\n",
    "#Change dtype of Price to float64.\n",
    "df['Price'] = df['Price'].astype('float64')\n",
    "#check dataframe\n",
    "print(df.head())"
   ]
  },
  {
   "cell_type": "code",
   "execution_count": 2,
   "id": "d48497ed-135d-4d98-ab99-67d455bd4301",
   "metadata": {},
   "outputs": [
    {
     "data": {
      "text/html": [
       "<div>\n",
       "<style scoped>\n",
       "    .dataframe tbody tr th:only-of-type {\n",
       "        vertical-align: middle;\n",
       "    }\n",
       "\n",
       "    .dataframe tbody tr th {\n",
       "        vertical-align: top;\n",
       "    }\n",
       "\n",
       "    .dataframe thead th {\n",
       "        text-align: right;\n",
       "    }\n",
       "</style>\n",
       "<table border=\"1\" class=\"dataframe\">\n",
       "  <thead>\n",
       "    <tr style=\"text-align: right;\">\n",
       "      <th></th>\n",
       "      <th>Weight (lbs)</th>\n",
       "      <th>Price</th>\n",
       "    </tr>\n",
       "  </thead>\n",
       "  <tbody>\n",
       "    <tr>\n",
       "      <th>count</th>\n",
       "      <td>184.000000</td>\n",
       "      <td>184.000000</td>\n",
       "    </tr>\n",
       "    <tr>\n",
       "      <th>mean</th>\n",
       "      <td>1.030707</td>\n",
       "      <td>2.961957</td>\n",
       "    </tr>\n",
       "    <tr>\n",
       "      <th>std</th>\n",
       "      <td>1.119180</td>\n",
       "      <td>2.369909</td>\n",
       "    </tr>\n",
       "    <tr>\n",
       "      <th>min</th>\n",
       "      <td>0.100000</td>\n",
       "      <td>0.300000</td>\n",
       "    </tr>\n",
       "    <tr>\n",
       "      <th>25%</th>\n",
       "      <td>1.000000</td>\n",
       "      <td>1.500000</td>\n",
       "    </tr>\n",
       "    <tr>\n",
       "      <th>50%</th>\n",
       "      <td>1.000000</td>\n",
       "      <td>2.500000</td>\n",
       "    </tr>\n",
       "    <tr>\n",
       "      <th>75%</th>\n",
       "      <td>1.000000</td>\n",
       "      <td>4.000000</td>\n",
       "    </tr>\n",
       "    <tr>\n",
       "      <th>max</th>\n",
       "      <td>10.000000</td>\n",
       "      <td>20.000000</td>\n",
       "    </tr>\n",
       "  </tbody>\n",
       "</table>\n",
       "</div>"
      ],
      "text/plain": [
       "       Weight (lbs)       Price\n",
       "count    184.000000  184.000000\n",
       "mean       1.030707    2.961957\n",
       "std        1.119180    2.369909\n",
       "min        0.100000    0.300000\n",
       "25%        1.000000    1.500000\n",
       "50%        1.000000    2.500000\n",
       "75%        1.000000    4.000000\n",
       "max       10.000000   20.000000"
      ]
     },
     "execution_count": 2,
     "metadata": {},
     "output_type": "execute_result"
    }
   ],
   "source": [
    "#Check the descriptive statistics. \n",
    "df.describe()"
   ]
  },
  {
   "cell_type": "code",
   "execution_count": null,
   "id": "489c338a-3cab-483e-99fb-5ee0d66ea865",
   "metadata": {},
   "outputs": [],
   "source": []
  }
 ],
 "metadata": {
  "kernelspec": {
   "display_name": "Python 3 (ipykernel)",
   "language": "python",
   "name": "python3"
  },
  "language_info": {
   "codemirror_mode": {
    "name": "ipython",
    "version": 3
   },
   "file_extension": ".py",
   "mimetype": "text/x-python",
   "name": "python",
   "nbconvert_exporter": "python",
   "pygments_lexer": "ipython3",
   "version": "3.12.4"
  }
 },
 "nbformat": 4,
 "nbformat_minor": 5
}
